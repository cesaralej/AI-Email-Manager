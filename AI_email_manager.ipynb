{
  "cells": [
    {
      "cell_type": "markdown",
      "metadata": {
        "id": "e0n49UaWPGAd"
      },
      "source": [
        "# Solving Business Problems with AI\n",
        "\n",
        "## Objective\n",
        "Develop a proof-of-concept application to intelligently process email order requests and customer inquiries for a fashion store. The system should accurately categorize emails as either product inquiries or order requests and generate appropriate responses using the product catalog information and current stock status.\n",
        "\n",
        "## Task Description\n",
        "\n",
        "### Inputs\n",
        "\n",
        "Google Spreadsheet **[Document](https://docs.google.com/spreadsheets/d/14fKHsblfqZfWj3iAaM2oA51TlYfQlFT4WKo52fVaQ9U)** containing:\n",
        "\n",
        "- **Products**: List of products with fields including product ID, name, category, stock amount, detailed description, and season.\n",
        "\n",
        "- **Emails**: Sequential list of emails with fields such as email ID, subject, and body.\n",
        "\n",
        "### Instructions\n",
        "\n",
        "- Implement all requirements using advanced Large Language Models (LLMs) to handle complex tasks, process extensive data, and generate accurate outputs effectively.\n",
        "- Use Retrieval-Augmented Generation (RAG) and vector store techniques where applicable to retrieve relevant information and generate responses.\n",
        "- You are provided with a temporary OpenAI API key granting access to GPT-4o, which has a token quota. Use it wisely or use your own key if preferred.\n",
        "- Address the requirements in the order listed. Review them in advance to develop a general implementation plan before starting.\n",
        "- Your deliverables should include:\n",
        "   - Code developed within this notebook.\n",
        "   - A single spreadsheet containing results, organized across separate sheets.\n",
        "   - Comments detailing your thought process.\n",
        "- You may use additional libraries (e.g., langchain) to streamline the solution. Use libraries appropriately to align with best practices for AI and LLM tools.\n",
        "- Use the most suitable AI techniques for each task. Note that solving tasks with traditional programming methods will not earn points, as this assessment evaluates your knowledge of LLM tools and best practices.\n",
        "\n",
        "### Requirements\n",
        "\n",
        "#### 1. Classify emails\n",
        "    \n",
        "Classify each email as either a _**\"product inquiry\"**_ or an _**\"order request\"**_. Ensure that the classification accurately reflects the intent of the email.\n",
        "\n",
        "**Output**: Populate the **email-classification** sheet with columns: email ID, category.\n",
        "\n",
        "#### 2. Process order requests\n",
        "1.   Process orders\n",
        "  - For each order request, verify product availability in stock.\n",
        "  - If the order can be fulfilled, create a new order line with the status “created”.\n",
        "  - If the order cannot be fulfilled due to insufficient stock, create a line with the status “out of stock” and include the requested quantity.\n",
        "  - Update stock levels after processing each order.\n",
        "  - Record each product request from the email.\n",
        "  - **Output**: Populate the **order-status** sheet with columns: email ID, product ID, quantity, status (**_\"created\"_**, **_\"out of stock\"_**).\n",
        "\n",
        "2.   Generate responses\n",
        "  - Create response emails based on the order processing results:\n",
        "      - If the order is fully processed, inform the customer and provide product details.\n",
        "      - If the order cannot be fulfilled or is only partially fulfilled, explain the situation, specify the out-of-stock items, and suggest alternatives or options (e.g., waiting for restock).\n",
        "  - Ensure the email tone is professional and production-ready.\n",
        "  - **Output**: Populate the **order-response** sheet with columns: email ID, response.\n",
        "\n",
        "#### 3. Handle product inquiry\n",
        "\n",
        "Customers may ask general open questions.\n",
        "  - Respond to product inquiries using relevant information from the product catalog.\n",
        "  - Ensure your solution scales to handle a full catalog of over 100,000 products without exceeding token limits. Avoid including the entire catalog in the prompt.\n",
        "  - **Output**: Populate the **inquiry-response** sheet with columns: email ID, response.\n",
        "\n",
        "## Evaluation Criteria\n",
        "- **Advanced AI Techniques**: The system should use Retrieval-Augmented Generation (RAG) and vector store techniques to retrieve relevant information from data sources and use it to respond to customer inquiries.\n",
        "- **Tone Adaptation**: The AI should adapt its tone appropriately based on the context of the customer's inquiry. Responses should be informative and enhance the customer experience.\n",
        "- **Code Completeness**: All functionalities outlined in the requirements must be fully implemented and operational as described.\n",
        "- **Code Quality and Clarity**: The code should be well-organized, with clear logic and a structured approach. It should be easy to understand and maintain.\n",
        "- **Presence of Expected Outputs**: All specified outputs must be correctly generated and saved in the appropriate sheets of the output spreadsheet. Ensure the format of each output matches the requirements—do not add extra columns or sheets.\n",
        "- **Accuracy of Outputs**: The accuracy of the generated outputs is crucial and will significantly impact the evaluation of your submission.\n",
        "\n",
        "We look forward to seeing your solution and your approach to solving real-world problems with AI technologies."
      ]
    },
    {
      "cell_type": "markdown",
      "metadata": {
        "id": "GOUEcKe-xSPr"
      },
      "source": [
        "# Prerequisites"
      ]
    },
    {
      "cell_type": "markdown",
      "metadata": {
        "id": "otSVe-sQ-CsW"
      },
      "source": [
        "### Configure OpenAI API Key."
      ]
    },
    {
      "cell_type": "code",
      "execution_count": 1,
      "metadata": {
        "id": "UvOkHAkDghww"
      },
      "outputs": [
        {
          "name": "stdout",
          "output_type": "stream",
          "text": [
            "Requirement already satisfied: openai in /Users/cesargarcia/anaconda3/envs/pda-ie/lib/python3.11/site-packages (1.45.0)\n",
            "Requirement already satisfied: anyio<5,>=3.5.0 in /Users/cesargarcia/anaconda3/envs/pda-ie/lib/python3.11/site-packages (from openai) (4.2.0)\n",
            "Requirement already satisfied: distro<2,>=1.7.0 in /Users/cesargarcia/anaconda3/envs/pda-ie/lib/python3.11/site-packages (from openai) (1.9.0)\n",
            "Requirement already satisfied: httpx<1,>=0.23.0 in /Users/cesargarcia/anaconda3/envs/pda-ie/lib/python3.11/site-packages (from openai) (0.27.2)\n",
            "Requirement already satisfied: jiter<1,>=0.4.0 in /Users/cesargarcia/anaconda3/envs/pda-ie/lib/python3.11/site-packages (from openai) (0.5.0)\n",
            "Requirement already satisfied: pydantic<3,>=1.9.0 in /Users/cesargarcia/anaconda3/envs/pda-ie/lib/python3.11/site-packages (from openai) (2.6.2)\n",
            "Requirement already satisfied: sniffio in /Users/cesargarcia/anaconda3/envs/pda-ie/lib/python3.11/site-packages (from openai) (1.3.0)\n",
            "Requirement already satisfied: tqdm>4 in /Users/cesargarcia/anaconda3/envs/pda-ie/lib/python3.11/site-packages (from openai) (4.65.0)\n",
            "Requirement already satisfied: typing-extensions<5,>=4.11 in /Users/cesargarcia/anaconda3/envs/pda-ie/lib/python3.11/site-packages (from openai) (4.12.2)\n",
            "Requirement already satisfied: idna>=2.8 in /Users/cesargarcia/anaconda3/envs/pda-ie/lib/python3.11/site-packages (from anyio<5,>=3.5.0->openai) (2.10)\n",
            "Requirement already satisfied: certifi in /Users/cesargarcia/anaconda3/envs/pda-ie/lib/python3.11/site-packages (from httpx<1,>=0.23.0->openai) (2024.6.2)\n",
            "Requirement already satisfied: httpcore==1.* in /Users/cesargarcia/anaconda3/envs/pda-ie/lib/python3.11/site-packages (from httpx<1,>=0.23.0->openai) (1.0.5)\n",
            "Requirement already satisfied: h11<0.15,>=0.13 in /Users/cesargarcia/anaconda3/envs/pda-ie/lib/python3.11/site-packages (from httpcore==1.*->httpx<1,>=0.23.0->openai) (0.14.0)\n",
            "Requirement already satisfied: annotated-types>=0.4.0 in /Users/cesargarcia/anaconda3/envs/pda-ie/lib/python3.11/site-packages (from pydantic<3,>=1.9.0->openai) (0.6.0)\n",
            "Requirement already satisfied: pydantic-core==2.16.3 in /Users/cesargarcia/anaconda3/envs/pda-ie/lib/python3.11/site-packages (from pydantic<3,>=1.9.0->openai) (2.16.3)\n",
            "Note: you may need to restart the kernel to use updated packages.\n"
          ]
        }
      ],
      "source": [
        "# Install the OpenAI Python package.\n",
        "%pip install openai"
      ]
    },
    {
      "cell_type": "code",
      "execution_count": 16,
      "metadata": {},
      "outputs": [
        {
          "name": "stdout",
          "output_type": "stream",
          "text": [
            "Requirement already satisfied: langchain in /Users/cesargarcia/anaconda3/envs/pda-ie/lib/python3.11/site-packages (0.3.0)\n",
            "Requirement already satisfied: langchain_community in /Users/cesargarcia/anaconda3/envs/pda-ie/lib/python3.11/site-packages (0.3.0)\n",
            "Requirement already satisfied: langchain_chroma in /Users/cesargarcia/anaconda3/envs/pda-ie/lib/python3.11/site-packages (0.1.4)\n",
            "Requirement already satisfied: transformers in /Users/cesargarcia/anaconda3/envs/pda-ie/lib/python3.11/site-packages (4.32.1)\n",
            "Requirement already satisfied: sentence-transformers in /Users/cesargarcia/anaconda3/envs/pda-ie/lib/python3.11/site-packages (3.0.1)\n",
            "Requirement already satisfied: PyYAML>=5.3 in /Users/cesargarcia/anaconda3/envs/pda-ie/lib/python3.11/site-packages (from langchain) (6.0.1)\n",
            "Requirement already satisfied: SQLAlchemy<3,>=1.4 in /Users/cesargarcia/anaconda3/envs/pda-ie/lib/python3.11/site-packages (from langchain) (2.0.27)\n",
            "Requirement already satisfied: aiohttp<4.0.0,>=3.8.3 in /Users/cesargarcia/anaconda3/envs/pda-ie/lib/python3.11/site-packages (from langchain) (3.9.3)\n",
            "Requirement already satisfied: langchain-core<0.4.0,>=0.3.0 in /Users/cesargarcia/anaconda3/envs/pda-ie/lib/python3.11/site-packages (from langchain) (0.3.0)\n",
            "Requirement already satisfied: langchain-text-splitters<0.4.0,>=0.3.0 in /Users/cesargarcia/anaconda3/envs/pda-ie/lib/python3.11/site-packages (from langchain) (0.3.0)\n",
            "Requirement already satisfied: langsmith<0.2.0,>=0.1.17 in /Users/cesargarcia/anaconda3/envs/pda-ie/lib/python3.11/site-packages (from langchain) (0.1.120)\n",
            "Requirement already satisfied: numpy<2,>=1 in /Users/cesargarcia/anaconda3/envs/pda-ie/lib/python3.11/site-packages (from langchain) (1.26.3)\n",
            "Requirement already satisfied: pydantic<3.0.0,>=2.7.4 in /Users/cesargarcia/anaconda3/envs/pda-ie/lib/python3.11/site-packages (from langchain) (2.9.1)\n",
            "Requirement already satisfied: requests<3,>=2 in /Users/cesargarcia/anaconda3/envs/pda-ie/lib/python3.11/site-packages (from langchain) (2.31.0)\n",
            "Requirement already satisfied: tenacity!=8.4.0,<9.0.0,>=8.1.0 in /Users/cesargarcia/anaconda3/envs/pda-ie/lib/python3.11/site-packages (from langchain) (8.2.3)\n",
            "Requirement already satisfied: dataclasses-json<0.7,>=0.5.7 in /Users/cesargarcia/anaconda3/envs/pda-ie/lib/python3.11/site-packages (from langchain_community) (0.6.7)\n",
            "Requirement already satisfied: pydantic-settings<3.0.0,>=2.4.0 in /Users/cesargarcia/anaconda3/envs/pda-ie/lib/python3.11/site-packages (from langchain_community) (2.5.2)\n",
            "Requirement already satisfied: chromadb!=0.5.4,!=0.5.5,<0.6.0,>=0.4.0 in /Users/cesargarcia/anaconda3/envs/pda-ie/lib/python3.11/site-packages (from langchain_chroma) (0.5.3)\n",
            "Requirement already satisfied: fastapi<1,>=0.95.2 in /Users/cesargarcia/anaconda3/envs/pda-ie/lib/python3.11/site-packages (from langchain_chroma) (0.103.0)\n",
            "Requirement already satisfied: filelock in /Users/cesargarcia/anaconda3/envs/pda-ie/lib/python3.11/site-packages (from transformers) (3.13.1)\n",
            "Requirement already satisfied: huggingface-hub<1.0,>=0.15.1 in /Users/cesargarcia/anaconda3/envs/pda-ie/lib/python3.11/site-packages (from transformers) (0.17.3)\n",
            "Requirement already satisfied: packaging>=20.0 in /Users/cesargarcia/anaconda3/envs/pda-ie/lib/python3.11/site-packages (from transformers) (23.2)\n",
            "Requirement already satisfied: regex!=2019.12.17 in /Users/cesargarcia/anaconda3/envs/pda-ie/lib/python3.11/site-packages (from transformers) (2023.10.3)\n",
            "Requirement already satisfied: tokenizers!=0.11.3,<0.14,>=0.11.1 in /Users/cesargarcia/anaconda3/envs/pda-ie/lib/python3.11/site-packages (from transformers) (0.13.2)\n",
            "Requirement already satisfied: safetensors>=0.3.1 in /Users/cesargarcia/anaconda3/envs/pda-ie/lib/python3.11/site-packages (from transformers) (0.4.0)\n",
            "Requirement already satisfied: tqdm>=4.27 in /Users/cesargarcia/anaconda3/envs/pda-ie/lib/python3.11/site-packages (from transformers) (4.65.0)\n",
            "Collecting transformers\n",
            "  Downloading transformers-4.44.2-py3-none-any.whl.metadata (43 kB)\n",
            "\u001b[2K     \u001b[38;2;114;156;31m━━━━━━━━━━━━━━━━━━━━━━━━━━━━━━━━━━━━━━━\u001b[0m \u001b[32m43.7/43.7 kB\u001b[0m \u001b[31m986.9 kB/s\u001b[0m eta \u001b[36m0:00:00\u001b[0m\n",
            "\u001b[?25hRequirement already satisfied: torch>=1.11.0 in /Users/cesargarcia/anaconda3/envs/pda-ie/lib/python3.11/site-packages (from sentence-transformers) (2.2.0)\n",
            "Requirement already satisfied: scikit-learn in /Users/cesargarcia/anaconda3/envs/pda-ie/lib/python3.11/site-packages (from sentence-transformers) (1.3.0)\n",
            "Requirement already satisfied: scipy in /Users/cesargarcia/anaconda3/envs/pda-ie/lib/python3.11/site-packages (from sentence-transformers) (1.11.4)\n",
            "Requirement already satisfied: Pillow in /Users/cesargarcia/anaconda3/envs/pda-ie/lib/python3.11/site-packages (from sentence-transformers) (10.2.0)\n",
            "Collecting huggingface-hub>=0.15.1 (from sentence-transformers)\n",
            "  Downloading huggingface_hub-0.24.7-py3-none-any.whl.metadata (13 kB)\n",
            "Collecting safetensors>=0.4.1 (from transformers)\n",
            "  Downloading safetensors-0.4.5-cp311-cp311-macosx_11_0_arm64.whl.metadata (3.8 kB)\n",
            "Collecting tokenizers<0.20,>=0.19 (from transformers)\n",
            "  Downloading tokenizers-0.19.1-cp311-cp311-macosx_11_0_arm64.whl.metadata (6.7 kB)\n",
            "Requirement already satisfied: aiosignal>=1.1.2 in /Users/cesargarcia/anaconda3/envs/pda-ie/lib/python3.11/site-packages (from aiohttp<4.0.0,>=3.8.3->langchain) (1.2.0)\n",
            "Requirement already satisfied: attrs>=17.3.0 in /Users/cesargarcia/anaconda3/envs/pda-ie/lib/python3.11/site-packages (from aiohttp<4.0.0,>=3.8.3->langchain) (23.2.0)\n",
            "Requirement already satisfied: frozenlist>=1.1.1 in /Users/cesargarcia/anaconda3/envs/pda-ie/lib/python3.11/site-packages (from aiohttp<4.0.0,>=3.8.3->langchain) (1.4.0)\n",
            "Requirement already satisfied: multidict<7.0,>=4.5 in /Users/cesargarcia/anaconda3/envs/pda-ie/lib/python3.11/site-packages (from aiohttp<4.0.0,>=3.8.3->langchain) (6.0.4)\n",
            "Requirement already satisfied: yarl<2.0,>=1.0 in /Users/cesargarcia/anaconda3/envs/pda-ie/lib/python3.11/site-packages (from aiohttp<4.0.0,>=3.8.3->langchain) (1.9.3)\n",
            "Requirement already satisfied: build>=1.0.3 in /Users/cesargarcia/anaconda3/envs/pda-ie/lib/python3.11/site-packages (from chromadb!=0.5.4,!=0.5.5,<0.6.0,>=0.4.0->langchain_chroma) (1.2.2)\n",
            "Requirement already satisfied: chroma-hnswlib==0.7.3 in /Users/cesargarcia/anaconda3/envs/pda-ie/lib/python3.11/site-packages (from chromadb!=0.5.4,!=0.5.5,<0.6.0,>=0.4.0->langchain_chroma) (0.7.3)\n",
            "Requirement already satisfied: uvicorn>=0.18.3 in /Users/cesargarcia/anaconda3/envs/pda-ie/lib/python3.11/site-packages (from uvicorn[standard]>=0.18.3->chromadb!=0.5.4,!=0.5.5,<0.6.0,>=0.4.0->langchain_chroma) (0.27.1)\n",
            "Requirement already satisfied: posthog>=2.4.0 in /Users/cesargarcia/anaconda3/envs/pda-ie/lib/python3.11/site-packages (from chromadb!=0.5.4,!=0.5.5,<0.6.0,>=0.4.0->langchain_chroma) (3.6.6)\n",
            "Requirement already satisfied: typing-extensions>=4.5.0 in /Users/cesargarcia/anaconda3/envs/pda-ie/lib/python3.11/site-packages (from chromadb!=0.5.4,!=0.5.5,<0.6.0,>=0.4.0->langchain_chroma) (4.12.2)\n",
            "Requirement already satisfied: onnxruntime>=1.14.1 in /Users/cesargarcia/anaconda3/envs/pda-ie/lib/python3.11/site-packages (from chromadb!=0.5.4,!=0.5.5,<0.6.0,>=0.4.0->langchain_chroma) (1.19.2)\n",
            "Requirement already satisfied: opentelemetry-api>=1.2.0 in /Users/cesargarcia/anaconda3/envs/pda-ie/lib/python3.11/site-packages (from chromadb!=0.5.4,!=0.5.5,<0.6.0,>=0.4.0->langchain_chroma) (1.27.0)\n",
            "Requirement already satisfied: opentelemetry-exporter-otlp-proto-grpc>=1.2.0 in /Users/cesargarcia/anaconda3/envs/pda-ie/lib/python3.11/site-packages (from chromadb!=0.5.4,!=0.5.5,<0.6.0,>=0.4.0->langchain_chroma) (1.27.0)\n",
            "Requirement already satisfied: opentelemetry-instrumentation-fastapi>=0.41b0 in /Users/cesargarcia/anaconda3/envs/pda-ie/lib/python3.11/site-packages (from chromadb!=0.5.4,!=0.5.5,<0.6.0,>=0.4.0->langchain_chroma) (0.48b0)\n",
            "Requirement already satisfied: opentelemetry-sdk>=1.2.0 in /Users/cesargarcia/anaconda3/envs/pda-ie/lib/python3.11/site-packages (from chromadb!=0.5.4,!=0.5.5,<0.6.0,>=0.4.0->langchain_chroma) (1.27.0)\n",
            "Requirement already satisfied: pypika>=0.48.9 in /Users/cesargarcia/anaconda3/envs/pda-ie/lib/python3.11/site-packages (from chromadb!=0.5.4,!=0.5.5,<0.6.0,>=0.4.0->langchain_chroma) (0.48.9)\n",
            "Requirement already satisfied: overrides>=7.3.1 in /Users/cesargarcia/anaconda3/envs/pda-ie/lib/python3.11/site-packages (from chromadb!=0.5.4,!=0.5.5,<0.6.0,>=0.4.0->langchain_chroma) (7.4.0)\n",
            "Requirement already satisfied: importlib-resources in /Users/cesargarcia/anaconda3/envs/pda-ie/lib/python3.11/site-packages (from chromadb!=0.5.4,!=0.5.5,<0.6.0,>=0.4.0->langchain_chroma) (6.1.1)\n",
            "Requirement already satisfied: grpcio>=1.58.0 in /Users/cesargarcia/anaconda3/envs/pda-ie/lib/python3.11/site-packages (from chromadb!=0.5.4,!=0.5.5,<0.6.0,>=0.4.0->langchain_chroma) (1.59.3)\n",
            "Requirement already satisfied: bcrypt>=4.0.1 in /Users/cesargarcia/anaconda3/envs/pda-ie/lib/python3.11/site-packages (from chromadb!=0.5.4,!=0.5.5,<0.6.0,>=0.4.0->langchain_chroma) (4.2.0)\n",
            "Requirement already satisfied: typer>=0.9.0 in /Users/cesargarcia/anaconda3/envs/pda-ie/lib/python3.11/site-packages (from chromadb!=0.5.4,!=0.5.5,<0.6.0,>=0.4.0->langchain_chroma) (0.9.0)\n",
            "Requirement already satisfied: kubernetes>=28.1.0 in /Users/cesargarcia/anaconda3/envs/pda-ie/lib/python3.11/site-packages (from chromadb!=0.5.4,!=0.5.5,<0.6.0,>=0.4.0->langchain_chroma) (30.1.0)\n",
            "Requirement already satisfied: mmh3>=4.0.1 in /Users/cesargarcia/anaconda3/envs/pda-ie/lib/python3.11/site-packages (from chromadb!=0.5.4,!=0.5.5,<0.6.0,>=0.4.0->langchain_chroma) (4.1.0)\n",
            "Requirement already satisfied: orjson>=3.9.12 in /Users/cesargarcia/anaconda3/envs/pda-ie/lib/python3.11/site-packages (from chromadb!=0.5.4,!=0.5.5,<0.6.0,>=0.4.0->langchain_chroma) (3.10.7)\n",
            "Requirement already satisfied: httpx>=0.27.0 in /Users/cesargarcia/anaconda3/envs/pda-ie/lib/python3.11/site-packages (from chromadb!=0.5.4,!=0.5.5,<0.6.0,>=0.4.0->langchain_chroma) (0.27.2)\n",
            "Requirement already satisfied: marshmallow<4.0.0,>=3.18.0 in /Users/cesargarcia/anaconda3/envs/pda-ie/lib/python3.11/site-packages (from dataclasses-json<0.7,>=0.5.7->langchain_community) (3.22.0)\n",
            "Requirement already satisfied: typing-inspect<1,>=0.4.0 in /Users/cesargarcia/anaconda3/envs/pda-ie/lib/python3.11/site-packages (from dataclasses-json<0.7,>=0.5.7->langchain_community) (0.9.0)\n",
            "Requirement already satisfied: starlette<0.28.0,>=0.27.0 in /Users/cesargarcia/anaconda3/envs/pda-ie/lib/python3.11/site-packages (from fastapi<1,>=0.95.2->langchain_chroma) (0.27.0)\n",
            "Requirement already satisfied: fsspec>=2023.5.0 in /Users/cesargarcia/anaconda3/envs/pda-ie/lib/python3.11/site-packages (from huggingface-hub>=0.15.1->sentence-transformers) (2023.10.0)\n",
            "Requirement already satisfied: jsonpatch<2.0,>=1.33 in /Users/cesargarcia/anaconda3/envs/pda-ie/lib/python3.11/site-packages (from langchain-core<0.4.0,>=0.3.0->langchain) (1.33)\n",
            "Requirement already satisfied: annotated-types>=0.6.0 in /Users/cesargarcia/anaconda3/envs/pda-ie/lib/python3.11/site-packages (from pydantic<3.0.0,>=2.7.4->langchain) (0.6.0)\n",
            "Requirement already satisfied: pydantic-core==2.23.3 in /Users/cesargarcia/anaconda3/envs/pda-ie/lib/python3.11/site-packages (from pydantic<3.0.0,>=2.7.4->langchain) (2.23.3)\n",
            "Requirement already satisfied: python-dotenv>=0.21.0 in /Users/cesargarcia/anaconda3/envs/pda-ie/lib/python3.11/site-packages (from pydantic-settings<3.0.0,>=2.4.0->langchain_community) (1.0.1)\n",
            "Requirement already satisfied: charset-normalizer<4,>=2 in /Users/cesargarcia/anaconda3/envs/pda-ie/lib/python3.11/site-packages (from requests<3,>=2->langchain) (3.3.2)\n",
            "Requirement already satisfied: idna<4,>=2.5 in /Users/cesargarcia/anaconda3/envs/pda-ie/lib/python3.11/site-packages (from requests<3,>=2->langchain) (2.10)\n",
            "Requirement already satisfied: urllib3<3,>=1.21.1 in /Users/cesargarcia/anaconda3/envs/pda-ie/lib/python3.11/site-packages (from requests<3,>=2->langchain) (2.1.0)\n",
            "Requirement already satisfied: certifi>=2017.4.17 in /Users/cesargarcia/anaconda3/envs/pda-ie/lib/python3.11/site-packages (from requests<3,>=2->langchain) (2024.6.2)\n",
            "Requirement already satisfied: sympy in /Users/cesargarcia/anaconda3/envs/pda-ie/lib/python3.11/site-packages (from torch>=1.11.0->sentence-transformers) (1.12)\n",
            "Requirement already satisfied: networkx in /Users/cesargarcia/anaconda3/envs/pda-ie/lib/python3.11/site-packages (from torch>=1.11.0->sentence-transformers) (3.1)\n",
            "Requirement already satisfied: jinja2 in /Users/cesargarcia/anaconda3/envs/pda-ie/lib/python3.11/site-packages (from torch>=1.11.0->sentence-transformers) (3.1.3)\n",
            "Requirement already satisfied: joblib>=1.1.1 in /Users/cesargarcia/anaconda3/envs/pda-ie/lib/python3.11/site-packages (from scikit-learn->sentence-transformers) (1.3.2)\n",
            "Requirement already satisfied: threadpoolctl>=2.0.0 in /Users/cesargarcia/anaconda3/envs/pda-ie/lib/python3.11/site-packages (from scikit-learn->sentence-transformers) (3.2.0)\n",
            "Requirement already satisfied: pyproject_hooks in /Users/cesargarcia/anaconda3/envs/pda-ie/lib/python3.11/site-packages (from build>=1.0.3->chromadb!=0.5.4,!=0.5.5,<0.6.0,>=0.4.0->langchain_chroma) (1.1.0)\n",
            "Requirement already satisfied: anyio in /Users/cesargarcia/anaconda3/envs/pda-ie/lib/python3.11/site-packages (from httpx>=0.27.0->chromadb!=0.5.4,!=0.5.5,<0.6.0,>=0.4.0->langchain_chroma) (4.2.0)\n",
            "Requirement already satisfied: httpcore==1.* in /Users/cesargarcia/anaconda3/envs/pda-ie/lib/python3.11/site-packages (from httpx>=0.27.0->chromadb!=0.5.4,!=0.5.5,<0.6.0,>=0.4.0->langchain_chroma) (1.0.5)\n",
            "Requirement already satisfied: sniffio in /Users/cesargarcia/anaconda3/envs/pda-ie/lib/python3.11/site-packages (from httpx>=0.27.0->chromadb!=0.5.4,!=0.5.5,<0.6.0,>=0.4.0->langchain_chroma) (1.3.0)\n",
            "Requirement already satisfied: h11<0.15,>=0.13 in /Users/cesargarcia/anaconda3/envs/pda-ie/lib/python3.11/site-packages (from httpcore==1.*->httpx>=0.27.0->chromadb!=0.5.4,!=0.5.5,<0.6.0,>=0.4.0->langchain_chroma) (0.14.0)\n",
            "Requirement already satisfied: jsonpointer>=1.9 in /Users/cesargarcia/anaconda3/envs/pda-ie/lib/python3.11/site-packages (from jsonpatch<2.0,>=1.33->langchain-core<0.4.0,>=0.3.0->langchain) (2.4)\n",
            "Requirement already satisfied: six>=1.9.0 in /Users/cesargarcia/anaconda3/envs/pda-ie/lib/python3.11/site-packages (from kubernetes>=28.1.0->chromadb!=0.5.4,!=0.5.5,<0.6.0,>=0.4.0->langchain_chroma) (1.16.0)\n",
            "Requirement already satisfied: python-dateutil>=2.5.3 in /Users/cesargarcia/anaconda3/envs/pda-ie/lib/python3.11/site-packages (from kubernetes>=28.1.0->chromadb!=0.5.4,!=0.5.5,<0.6.0,>=0.4.0->langchain_chroma) (2.8.2)\n",
            "Requirement already satisfied: google-auth>=1.0.1 in /Users/cesargarcia/anaconda3/envs/pda-ie/lib/python3.11/site-packages (from kubernetes>=28.1.0->chromadb!=0.5.4,!=0.5.5,<0.6.0,>=0.4.0->langchain_chroma) (2.28.1)\n",
            "Requirement already satisfied: websocket-client!=0.40.0,!=0.41.*,!=0.42.*,>=0.32.0 in /Users/cesargarcia/anaconda3/envs/pda-ie/lib/python3.11/site-packages (from kubernetes>=28.1.0->chromadb!=0.5.4,!=0.5.5,<0.6.0,>=0.4.0->langchain_chroma) (1.7.0)\n",
            "Requirement already satisfied: requests-oauthlib in /Users/cesargarcia/anaconda3/envs/pda-ie/lib/python3.11/site-packages (from kubernetes>=28.1.0->chromadb!=0.5.4,!=0.5.5,<0.6.0,>=0.4.0->langchain_chroma) (1.3.1)\n",
            "Requirement already satisfied: oauthlib>=3.2.2 in /Users/cesargarcia/anaconda3/envs/pda-ie/lib/python3.11/site-packages (from kubernetes>=28.1.0->chromadb!=0.5.4,!=0.5.5,<0.6.0,>=0.4.0->langchain_chroma) (3.2.2)\n",
            "Requirement already satisfied: coloredlogs in /Users/cesargarcia/anaconda3/envs/pda-ie/lib/python3.11/site-packages (from onnxruntime>=1.14.1->chromadb!=0.5.4,!=0.5.5,<0.6.0,>=0.4.0->langchain_chroma) (15.0.1)\n",
            "Requirement already satisfied: flatbuffers in /Users/cesargarcia/anaconda3/envs/pda-ie/lib/python3.11/site-packages (from onnxruntime>=1.14.1->chromadb!=0.5.4,!=0.5.5,<0.6.0,>=0.4.0->langchain_chroma) (23.5.26)\n",
            "Requirement already satisfied: protobuf in /Users/cesargarcia/anaconda3/envs/pda-ie/lib/python3.11/site-packages (from onnxruntime>=1.14.1->chromadb!=0.5.4,!=0.5.5,<0.6.0,>=0.4.0->langchain_chroma) (4.25.3)\n",
            "Requirement already satisfied: deprecated>=1.2.6 in /Users/cesargarcia/anaconda3/envs/pda-ie/lib/python3.11/site-packages (from opentelemetry-api>=1.2.0->chromadb!=0.5.4,!=0.5.5,<0.6.0,>=0.4.0->langchain_chroma) (1.2.14)\n",
            "Requirement already satisfied: importlib-metadata<=8.4.0,>=6.0 in /Users/cesargarcia/anaconda3/envs/pda-ie/lib/python3.11/site-packages (from opentelemetry-api>=1.2.0->chromadb!=0.5.4,!=0.5.5,<0.6.0,>=0.4.0->langchain_chroma) (6.10.0)\n",
            "Requirement already satisfied: googleapis-common-protos~=1.52 in /Users/cesargarcia/anaconda3/envs/pda-ie/lib/python3.11/site-packages (from opentelemetry-exporter-otlp-proto-grpc>=1.2.0->chromadb!=0.5.4,!=0.5.5,<0.6.0,>=0.4.0->langchain_chroma) (1.65.0)\n",
            "Requirement already satisfied: opentelemetry-exporter-otlp-proto-common==1.27.0 in /Users/cesargarcia/anaconda3/envs/pda-ie/lib/python3.11/site-packages (from opentelemetry-exporter-otlp-proto-grpc>=1.2.0->chromadb!=0.5.4,!=0.5.5,<0.6.0,>=0.4.0->langchain_chroma) (1.27.0)\n",
            "Requirement already satisfied: opentelemetry-proto==1.27.0 in /Users/cesargarcia/anaconda3/envs/pda-ie/lib/python3.11/site-packages (from opentelemetry-exporter-otlp-proto-grpc>=1.2.0->chromadb!=0.5.4,!=0.5.5,<0.6.0,>=0.4.0->langchain_chroma) (1.27.0)\n",
            "Requirement already satisfied: opentelemetry-instrumentation-asgi==0.48b0 in /Users/cesargarcia/anaconda3/envs/pda-ie/lib/python3.11/site-packages (from opentelemetry-instrumentation-fastapi>=0.41b0->chromadb!=0.5.4,!=0.5.5,<0.6.0,>=0.4.0->langchain_chroma) (0.48b0)\n",
            "Requirement already satisfied: opentelemetry-instrumentation==0.48b0 in /Users/cesargarcia/anaconda3/envs/pda-ie/lib/python3.11/site-packages (from opentelemetry-instrumentation-fastapi>=0.41b0->chromadb!=0.5.4,!=0.5.5,<0.6.0,>=0.4.0->langchain_chroma) (0.48b0)\n",
            "Requirement already satisfied: opentelemetry-semantic-conventions==0.48b0 in /Users/cesargarcia/anaconda3/envs/pda-ie/lib/python3.11/site-packages (from opentelemetry-instrumentation-fastapi>=0.41b0->chromadb!=0.5.4,!=0.5.5,<0.6.0,>=0.4.0->langchain_chroma) (0.48b0)\n",
            "Requirement already satisfied: opentelemetry-util-http==0.48b0 in /Users/cesargarcia/anaconda3/envs/pda-ie/lib/python3.11/site-packages (from opentelemetry-instrumentation-fastapi>=0.41b0->chromadb!=0.5.4,!=0.5.5,<0.6.0,>=0.4.0->langchain_chroma) (0.48b0)\n",
            "Requirement already satisfied: setuptools>=16.0 in /Users/cesargarcia/anaconda3/envs/pda-ie/lib/python3.11/site-packages (from opentelemetry-instrumentation==0.48b0->opentelemetry-instrumentation-fastapi>=0.41b0->chromadb!=0.5.4,!=0.5.5,<0.6.0,>=0.4.0->langchain_chroma) (69.0.3)\n",
            "Requirement already satisfied: wrapt<2.0.0,>=1.0.0 in /Users/cesargarcia/anaconda3/envs/pda-ie/lib/python3.11/site-packages (from opentelemetry-instrumentation==0.48b0->opentelemetry-instrumentation-fastapi>=0.41b0->chromadb!=0.5.4,!=0.5.5,<0.6.0,>=0.4.0->langchain_chroma) (1.14.1)\n",
            "Requirement already satisfied: asgiref~=3.0 in /Users/cesargarcia/anaconda3/envs/pda-ie/lib/python3.11/site-packages (from opentelemetry-instrumentation-asgi==0.48b0->opentelemetry-instrumentation-fastapi>=0.41b0->chromadb!=0.5.4,!=0.5.5,<0.6.0,>=0.4.0->langchain_chroma) (3.8.1)\n",
            "Requirement already satisfied: monotonic>=1.5 in /Users/cesargarcia/anaconda3/envs/pda-ie/lib/python3.11/site-packages (from posthog>=2.4.0->chromadb!=0.5.4,!=0.5.5,<0.6.0,>=0.4.0->langchain_chroma) (1.6)\n",
            "Requirement already satisfied: backoff>=1.10.0 in /Users/cesargarcia/anaconda3/envs/pda-ie/lib/python3.11/site-packages (from posthog>=2.4.0->chromadb!=0.5.4,!=0.5.5,<0.6.0,>=0.4.0->langchain_chroma) (2.2.1)\n",
            "Requirement already satisfied: click<9.0.0,>=7.1.1 in /Users/cesargarcia/anaconda3/envs/pda-ie/lib/python3.11/site-packages (from typer>=0.9.0->chromadb!=0.5.4,!=0.5.5,<0.6.0,>=0.4.0->langchain_chroma) (8.1.7)\n",
            "Requirement already satisfied: mypy-extensions>=0.3.0 in /Users/cesargarcia/anaconda3/envs/pda-ie/lib/python3.11/site-packages (from typing-inspect<1,>=0.4.0->dataclasses-json<0.7,>=0.5.7->langchain_community) (1.0.0)\n",
            "Requirement already satisfied: httptools>=0.5.0 in /Users/cesargarcia/anaconda3/envs/pda-ie/lib/python3.11/site-packages (from uvicorn[standard]>=0.18.3->chromadb!=0.5.4,!=0.5.5,<0.6.0,>=0.4.0->langchain_chroma) (0.6.1)\n",
            "Requirement already satisfied: uvloop!=0.15.0,!=0.15.1,>=0.14.0 in /Users/cesargarcia/anaconda3/envs/pda-ie/lib/python3.11/site-packages (from uvicorn[standard]>=0.18.3->chromadb!=0.5.4,!=0.5.5,<0.6.0,>=0.4.0->langchain_chroma) (0.20.0)\n",
            "Requirement already satisfied: watchfiles>=0.13 in /Users/cesargarcia/anaconda3/envs/pda-ie/lib/python3.11/site-packages (from uvicorn[standard]>=0.18.3->chromadb!=0.5.4,!=0.5.5,<0.6.0,>=0.4.0->langchain_chroma) (0.24.0)\n",
            "Requirement already satisfied: websockets>=10.4 in /Users/cesargarcia/anaconda3/envs/pda-ie/lib/python3.11/site-packages (from uvicorn[standard]>=0.18.3->chromadb!=0.5.4,!=0.5.5,<0.6.0,>=0.4.0->langchain_chroma) (13.0.1)\n",
            "Requirement already satisfied: MarkupSafe>=2.0 in /Users/cesargarcia/anaconda3/envs/pda-ie/lib/python3.11/site-packages (from jinja2->torch>=1.11.0->sentence-transformers) (2.1.3)\n",
            "Requirement already satisfied: mpmath>=0.19 in /Users/cesargarcia/anaconda3/envs/pda-ie/lib/python3.11/site-packages (from sympy->torch>=1.11.0->sentence-transformers) (1.3.0)\n",
            "Requirement already satisfied: cachetools<6.0,>=2.0.0 in /Users/cesargarcia/anaconda3/envs/pda-ie/lib/python3.11/site-packages (from google-auth>=1.0.1->kubernetes>=28.1.0->chromadb!=0.5.4,!=0.5.5,<0.6.0,>=0.4.0->langchain_chroma) (5.3.2)\n",
            "Requirement already satisfied: pyasn1-modules>=0.2.1 in /Users/cesargarcia/anaconda3/envs/pda-ie/lib/python3.11/site-packages (from google-auth>=1.0.1->kubernetes>=28.1.0->chromadb!=0.5.4,!=0.5.5,<0.6.0,>=0.4.0->langchain_chroma) (0.3.0)\n",
            "Requirement already satisfied: rsa<5,>=3.1.4 in /Users/cesargarcia/anaconda3/envs/pda-ie/lib/python3.11/site-packages (from google-auth>=1.0.1->kubernetes>=28.1.0->chromadb!=0.5.4,!=0.5.5,<0.6.0,>=0.4.0->langchain_chroma) (4.9)\n",
            "Requirement already satisfied: zipp>=0.5 in /Users/cesargarcia/anaconda3/envs/pda-ie/lib/python3.11/site-packages (from importlib-metadata<=8.4.0,>=6.0->opentelemetry-api>=1.2.0->chromadb!=0.5.4,!=0.5.5,<0.6.0,>=0.4.0->langchain_chroma) (3.17.0)\n",
            "Requirement already satisfied: humanfriendly>=9.1 in /Users/cesargarcia/anaconda3/envs/pda-ie/lib/python3.11/site-packages (from coloredlogs->onnxruntime>=1.14.1->chromadb!=0.5.4,!=0.5.5,<0.6.0,>=0.4.0->langchain_chroma) (10.0)\n",
            "Requirement already satisfied: pyasn1<0.6.0,>=0.4.6 in /Users/cesargarcia/anaconda3/envs/pda-ie/lib/python3.11/site-packages (from pyasn1-modules>=0.2.1->google-auth>=1.0.1->kubernetes>=28.1.0->chromadb!=0.5.4,!=0.5.5,<0.6.0,>=0.4.0->langchain_chroma) (0.5.1)\n",
            "Downloading transformers-4.44.2-py3-none-any.whl (9.5 MB)\n",
            "\u001b[2K   \u001b[38;2;114;156;31m━━━━━━━━━━━━━━━━━━━━━━━━━━━━━━━━━━━━━━━━\u001b[0m \u001b[32m9.5/9.5 MB\u001b[0m \u001b[31m17.3 MB/s\u001b[0m eta \u001b[36m0:00:00\u001b[0mm eta \u001b[36m0:00:01\u001b[0m[36m0:00:01\u001b[0m\n",
            "\u001b[?25hDownloading huggingface_hub-0.24.7-py3-none-any.whl (417 kB)\n",
            "\u001b[2K   \u001b[38;2;114;156;31m━━━━━━━━━━━━━━━━━━━━━━━━━━━━━━━━━━━━━━━━\u001b[0m \u001b[32m417.5/417.5 kB\u001b[0m \u001b[31m11.2 MB/s\u001b[0m eta \u001b[36m0:00:00\u001b[0m[36m0:00:01\u001b[0m\n",
            "\u001b[?25hDownloading safetensors-0.4.5-cp311-cp311-macosx_11_0_arm64.whl (381 kB)\n",
            "\u001b[2K   \u001b[38;2;114;156;31m━━━━━━━━━━━━━━━━━━━━━━━━━━━━━━━━━━━━━━━━\u001b[0m \u001b[32m381.5/381.5 kB\u001b[0m \u001b[31m7.7 MB/s\u001b[0m eta \u001b[36m0:00:00\u001b[0m3 MB/s\u001b[0m eta \u001b[36m0:00:01\u001b[0m\n",
            "\u001b[?25hDownloading tokenizers-0.19.1-cp311-cp311-macosx_11_0_arm64.whl (2.4 MB)\n",
            "\u001b[2K   \u001b[38;2;114;156;31m━━━━━━━━━━━━━━━━━━━━━━━━━━━━━━━━━━━━━━━━\u001b[0m \u001b[32m2.4/2.4 MB\u001b[0m \u001b[31m23.6 MB/s\u001b[0m eta \u001b[36m0:00:00\u001b[0mm eta \u001b[36m0:00:01\u001b[0m[36m0:00:01\u001b[0m\n",
            "\u001b[?25hInstalling collected packages: safetensors, huggingface-hub, tokenizers, transformers\n",
            "  Attempting uninstall: safetensors\n",
            "    Found existing installation: safetensors 0.4.0\n",
            "    Uninstalling safetensors-0.4.0:\n",
            "      Successfully uninstalled safetensors-0.4.0\n",
            "  Attempting uninstall: huggingface-hub\n",
            "    Found existing installation: huggingface-hub 0.17.3\n",
            "    Uninstalling huggingface-hub-0.17.3:\n",
            "      Successfully uninstalled huggingface-hub-0.17.3\n",
            "  Attempting uninstall: tokenizers\n",
            "    Found existing installation: tokenizers 0.13.2\n",
            "    Uninstalling tokenizers-0.13.2:\n",
            "      Successfully uninstalled tokenizers-0.13.2\n",
            "  Attempting uninstall: transformers\n",
            "    Found existing installation: transformers 4.32.1\n",
            "    Uninstalling transformers-4.32.1:\n",
            "      Successfully uninstalled transformers-4.32.1\n",
            "Successfully installed huggingface-hub-0.24.7 safetensors-0.4.5 tokenizers-0.19.1 transformers-4.44.2\n",
            "Note: you may need to restart the kernel to use updated packages.\n"
          ]
        }
      ],
      "source": [
        "%pip install langchain langchain_community langchain_chroma transformers sentence-transformers"
      ]
    },
    {
      "cell_type": "markdown",
      "metadata": {
        "id": "IKJf-dPLwXMu"
      },
      "source": [
        "**IMPORTANT: If you are going to use our custom API Key then make sure that you also use custom base URL as in example below. Otherwise it will not work.**"
      ]
    },
    {
      "cell_type": "code",
      "execution_count": 5,
      "metadata": {},
      "outputs": [],
      "source": [
        "import os\n",
        "os.environ[\"OPENAI_API_KEY\"] = 'a0BIj000001bplLMAQ'"
      ]
    },
    {
      "cell_type": "code",
      "execution_count": 6,
      "metadata": {
        "id": "caEG5zIMw8DV"
      },
      "outputs": [
        {
          "name": "stdout",
          "output_type": "stream",
          "text": [
            "ChatCompletionMessage(content='Hello! How can I assist you today?', refusal=None, role='assistant', function_call=None, tool_calls=None)\n"
          ]
        }
      ],
      "source": [
        "# Code example of OpenAI communication\n",
        "\n",
        "from openai import OpenAI\n",
        "\n",
        "client = OpenAI(\n",
        "    # In order to use provided API key, make sure that models you create point to this custom base URL.\n",
        "    base_url='https://47v4us7kyypinfb5lcligtc3x40ygqbs.lambda-url.us-east-1.on.aws/v1/',\n",
        "    # The temporary API key giving access to ChatGPT 4o model. Quotas apply: you have 500'000 input and 500'000 output tokens, use them wisely ;)\n",
        "    api_key=os.environ[\"OPENAI_API_KEY\"]\n",
        ")\n",
        "\n",
        "completion = client.chat.completions.create(\n",
        "  model=\"gpt-4o\",\n",
        "  messages=[\n",
        "    {\"role\": \"user\", \"content\": \"Hello!\"}\n",
        "  ]\n",
        ")\n",
        "\n",
        "print(completion.choices[0].message)"
      ]
    },
    {
      "cell_type": "code",
      "execution_count": 1,
      "metadata": {
        "id": "shE97VzGwZ4v"
      },
      "outputs": [
        {
          "data": {
            "text/html": [
              "<div>\n",
              "<style scoped>\n",
              "    .dataframe tbody tr th:only-of-type {\n",
              "        vertical-align: middle;\n",
              "    }\n",
              "\n",
              "    .dataframe tbody tr th {\n",
              "        vertical-align: top;\n",
              "    }\n",
              "\n",
              "    .dataframe thead th {\n",
              "        text-align: right;\n",
              "    }\n",
              "</style>\n",
              "<table border=\"1\" class=\"dataframe\">\n",
              "  <thead>\n",
              "    <tr style=\"text-align: right;\">\n",
              "      <th></th>\n",
              "      <th>product_id</th>\n",
              "      <th>name</th>\n",
              "      <th>category</th>\n",
              "      <th>description</th>\n",
              "      <th>stock</th>\n",
              "      <th>seasons</th>\n",
              "      <th>price</th>\n",
              "    </tr>\n",
              "  </thead>\n",
              "  <tbody>\n",
              "    <tr>\n",
              "      <th>0</th>\n",
              "      <td>RSG8901</td>\n",
              "      <td>Retro Sunglasses</td>\n",
              "      <td>Accessories</td>\n",
              "      <td>Transport yourself back in time with our retro...</td>\n",
              "      <td>1</td>\n",
              "      <td>Spring, Summer</td>\n",
              "      <td>26.99</td>\n",
              "    </tr>\n",
              "    <tr>\n",
              "      <th>1</th>\n",
              "      <td>SWL2345</td>\n",
              "      <td>Sleek Wallet</td>\n",
              "      <td>Accessories</td>\n",
              "      <td>Keep your essentials organized and secure with...</td>\n",
              "      <td>5</td>\n",
              "      <td>All seasons</td>\n",
              "      <td>30.00</td>\n",
              "    </tr>\n",
              "    <tr>\n",
              "      <th>2</th>\n",
              "      <td>VSC6789</td>\n",
              "      <td>Versatile Scarf</td>\n",
              "      <td>Accessories</td>\n",
              "      <td>Add a touch of versatility to your wardrobe wi...</td>\n",
              "      <td>6</td>\n",
              "      <td>Spring, Fall</td>\n",
              "      <td>23.00</td>\n",
              "    </tr>\n",
              "  </tbody>\n",
              "</table>\n",
              "</div>"
            ],
            "text/plain": [
              "  product_id              name     category  \\\n",
              "0    RSG8901  Retro Sunglasses  Accessories   \n",
              "1    SWL2345      Sleek Wallet  Accessories   \n",
              "2    VSC6789   Versatile Scarf  Accessories   \n",
              "\n",
              "                                         description  stock         seasons  \\\n",
              "0  Transport yourself back in time with our retro...      1  Spring, Summer   \n",
              "1  Keep your essentials organized and secure with...      5     All seasons   \n",
              "2  Add a touch of versatility to your wardrobe wi...      6    Spring, Fall   \n",
              "\n",
              "   price  \n",
              "0  26.99  \n",
              "1  30.00  \n",
              "2  23.00  "
            ]
          },
          "metadata": {},
          "output_type": "display_data"
        },
        {
          "data": {
            "text/html": [
              "<div>\n",
              "<style scoped>\n",
              "    .dataframe tbody tr th:only-of-type {\n",
              "        vertical-align: middle;\n",
              "    }\n",
              "\n",
              "    .dataframe tbody tr th {\n",
              "        vertical-align: top;\n",
              "    }\n",
              "\n",
              "    .dataframe thead th {\n",
              "        text-align: right;\n",
              "    }\n",
              "</style>\n",
              "<table border=\"1\" class=\"dataframe\">\n",
              "  <thead>\n",
              "    <tr style=\"text-align: right;\">\n",
              "      <th></th>\n",
              "      <th>email_id</th>\n",
              "      <th>subject</th>\n",
              "      <th>message</th>\n",
              "    </tr>\n",
              "  </thead>\n",
              "  <tbody>\n",
              "    <tr>\n",
              "      <th>0</th>\n",
              "      <td>E001</td>\n",
              "      <td>Leather Wallets</td>\n",
              "      <td>Hi there, I want to order all the remaining LT...</td>\n",
              "    </tr>\n",
              "    <tr>\n",
              "      <th>1</th>\n",
              "      <td>E002</td>\n",
              "      <td>Buy Vibrant Tote with noise</td>\n",
              "      <td>Good morning, I'm looking to buy the VBT2345 V...</td>\n",
              "    </tr>\n",
              "    <tr>\n",
              "      <th>2</th>\n",
              "      <td>E003</td>\n",
              "      <td>Need your help</td>\n",
              "      <td>Hello, I need a new bag to carry my laptop and...</td>\n",
              "    </tr>\n",
              "  </tbody>\n",
              "</table>\n",
              "</div>"
            ],
            "text/plain": [
              "  email_id                      subject  \\\n",
              "0     E001              Leather Wallets   \n",
              "1     E002  Buy Vibrant Tote with noise   \n",
              "2     E003               Need your help   \n",
              "\n",
              "                                             message  \n",
              "0  Hi there, I want to order all the remaining LT...  \n",
              "1  Good morning, I'm looking to buy the VBT2345 V...  \n",
              "2  Hello, I need a new bag to carry my laptop and...  "
            ]
          },
          "metadata": {},
          "output_type": "display_data"
        }
      ],
      "source": [
        "# Code example of reading input data\n",
        "\n",
        "import pandas as pd\n",
        "from IPython.display import display\n",
        "\n",
        "def read_data_frame(document_id, sheet_name):\n",
        "    export_link = f\"https://docs.google.com/spreadsheets/d/{document_id}/gviz/tq?tqx=out:csv&sheet={sheet_name}\"\n",
        "    return  pd.read_csv(export_link)\n",
        "\n",
        "document_id = '14fKHsblfqZfWj3iAaM2oA51TlYfQlFT4WKo52fVaQ9U'\n",
        "products_df = read_data_frame(document_id, 'products')\n",
        "emails_df = read_data_frame(document_id, 'emails')\n",
        "\n",
        "# Display first 3 rows of each DataFrame\n",
        "display(products_df.head(3))\n",
        "display(emails_df.head(3))"
      ]
    },
    {
      "cell_type": "markdown",
      "metadata": {
        "id": "zyvqJ-BUNKQR"
      },
      "source": [
        "# Task 1. Classify emails"
      ]
    },
    {
      "cell_type": "markdown",
      "metadata": {},
      "source": [
        "We use prompt engineering to classify the messages."
      ]
    },
    {
      "cell_type": "code",
      "execution_count": 7,
      "metadata": {},
      "outputs": [],
      "source": [
        "# Function to classify email using GPT-4\n",
        "def classify_email(email_subject, email_body):\n",
        "    # Prepare the prompt for GPT-4\n",
        "    prompt = f\"\"\"\n",
        "        You are an assistant helping a fashion store by classifying emails into two categories: \"product inquiry\" and \"order request.\" Below is the subject and body of an email. Your job is to classify it into one of these categories:\n",
        "\n",
        "        Email:\n",
        "        ###\n",
        "        Subject: {email_subject}\n",
        "        Body: {email_body}\n",
        "        ###\n",
        "\n",
        "        Based on the content above, classify this email as either \"product inquiry\" or \"order request\". Do not write any additional text.\n",
        "\n",
        "        Example:\n",
        "        ###\n",
        "        Subject: Need your help\n",
        "        Body: I am interested in learning more about your products. Can you provide more information?\n",
        "        ###\n",
        "\n",
        "        Response: product inquiry\n",
        "\n",
        "        \"\"\"\n",
        "\n",
        "    response = client.chat.completions.create(\n",
        "        model=\"gpt-4o\",\n",
        "        messages=[\n",
        "            {\"role\": \"user\", \"content\": prompt}\n",
        "        ],\n",
        "        max_tokens=50\n",
        "        )\n",
        "    \n",
        "    # Extract category from the response\n",
        "    result = response.choices[0].message.content.strip().lower()\n",
        "    \n",
        "    # Return classification result\n",
        "    if \"inquiry\" in result:\n",
        "        return \"product inquiry\"\n",
        "    elif \"order\" in result:\n",
        "        return \"order request\"\n",
        "    else:\n",
        "        return \"unknown\"\n"
      ]
    },
    {
      "cell_type": "code",
      "execution_count": null,
      "metadata": {},
      "outputs": [],
      "source": [
        "# Classify all emails and store results\n",
        "emails_df['category'] = emails_df.apply(lambda row: classify_email(row['subject'], row['message']), axis=1)\n",
        "\n",
        "# Output the results to the 'email-classification' sheet\n",
        "classification_df = emails_df[['email_id', 'category']]\n",
        "classification_df.to_csv('email-classification.csv', index=False)  # Saving temporarily as CSV before uploading"
      ]
    },
    {
      "cell_type": "code",
      "execution_count": 8,
      "metadata": {},
      "outputs": [
        {
          "data": {
            "text/plain": [
              "category\n",
              "product inquiry    11\n",
              "order request      10\n",
              "Name: count, dtype: int64"
            ]
          },
          "execution_count": 8,
          "metadata": {},
          "output_type": "execute_result"
        }
      ],
      "source": [
        "emails_df['category'].value_counts()"
      ]
    },
    {
      "cell_type": "markdown",
      "metadata": {
        "id": "lm3ZeatjYjM3"
      },
      "source": [
        "# Task 2. Process order requests"
      ]
    },
    {
      "cell_type": "markdown",
      "metadata": {},
      "source": [
        "First we create a new column with the product summary. This is what we will use to create our vector database to later query. Then, we use the LLM and prompt engineering to check for products and quantities on each email. Finally, we check the product and stock using RAG and process the order requests."
      ]
    },
    {
      "cell_type": "code",
      "execution_count": null,
      "metadata": {},
      "outputs": [],
      "source": [
        "# Create a new column that summarizes the product information\n",
        "products_df['summary'] = products_df.apply(lambda row: f\"product_id: {row['name']} - name:{row['name']} - category: {row['category']} - description: {row['description']} - stock: {row['stock']} - seasons: {row['seasons']} - price: {row['price']}\", axis=1)\n",
        "products_df.head()"
      ]
    },
    {
      "cell_type": "code",
      "execution_count": null,
      "metadata": {},
      "outputs": [],
      "source": [
        "# Import Langchain and the necessary modules\n",
        "from langchain_community.document_loaders import DataFrameLoader\n",
        "from langchain_chroma import Chroma\n",
        "from langchain_community.embeddings import HuggingFaceBgeEmbeddings\n",
        "\n",
        "# Load the product catalog from the DataFrame and store in a Chroma vector store\n",
        "loader = DataFrameLoader(products_df, page_content_column=\"summary\")\n",
        "documents = loader.load()\n",
        "\n",
        "huggingface_embeddings = HuggingFaceBgeEmbeddings(\n",
        "    model_name=\"sentence-transformers/all-MiniLM-l6-v2\",\n",
        "    model_kwargs={'device':'cpu'}, \n",
        "    encode_kwargs={'normalize_embeddings': True}\n",
        ")\n",
        "\n",
        "# Create embeddings for products and initialize Chroma vector store\n",
        "vectorstore = Chroma.from_documents(documents, embedding=huggingface_embeddings)"
      ]
    },
    {
      "cell_type": "code",
      "execution_count": 42,
      "metadata": {},
      "outputs": [
        {
          "name": "stdout",
          "output_type": "stream",
          "text": [
            "{'- CLF2109 Cable Knit Beanies': 5, '- FZZ1098 Fuzzy Slippers': 2}\n"
          ]
        }
      ],
      "source": [
        "# Function to extract products and quantities from email body\n",
        "def extract_products_and_quantities(email_body):\n",
        "    #This needs to be improved to account for categories of products and seasons\n",
        "    prompt = f\"\"\"\n",
        "    You are a data extraction assistant. I will provide you with an email body that contains an order request. Your task is to extract the list of products and their respective quantities mentioned in the email.\n",
        "\n",
        "    Here is the email body:\n",
        "    ###\n",
        "    \"{email_body}\"\n",
        "    ###\n",
        "\n",
        "    Please provide the extracted list of products and their quantities in the following format. Only include products that have a valid quantity specified. Only use numbers as a quantity.\n",
        "    - Product Name: Quantity\n",
        "\n",
        "    Example:\n",
        "    - Blue Dresses: 2\n",
        "    - Red Heels: 1\n",
        "    \"\"\"\n",
        "    \n",
        "    response = client.chat.completions.create(\n",
        "        model=\"gpt-4o\",\n",
        "        messages=[\n",
        "            {\"role\": \"user\", \"content\": prompt}\n",
        "        ],\n",
        "        max_tokens=50\n",
        "        )\n",
        "    \n",
        "    extracted_text = response.choices[0].message.content.strip()\n",
        "    # Convert extracted text to a dictionary\n",
        "    product_list = {}\n",
        "    for line in extracted_text.split('\\n'):\n",
        "        #print(line)\n",
        "        if ': ' in line:\n",
        "            product, quantity = line.split(': ')\n",
        "            if quantity.isdigit():\n",
        "                product_list[product.strip()] = int(quantity.strip())\n",
        "            else:\n",
        "                print(f\"Quantity for product '{product}' is not a valid number. Data: {line}\")\n",
        "    \n",
        "    return product_list"
      ]
    },
    {
      "cell_type": "code",
      "execution_count": 45,
      "metadata": {},
      "outputs": [
        {
          "name": "stdout",
          "output_type": "stream",
          "text": [
            "Quantity for product '- SFT1098 Infinity Scarves' is not a valid number. Data: - SFT1098 Infinity Scarves: 3 to 4\n",
            "CLF2109\n",
            "CLF2109 2\n",
            "---\n",
            "FZZ1098\n",
            "FZZ1098 2\n",
            "---\n",
            "VSC6789\n",
            "VSC6789 6\n",
            "---\n",
            "PTR9876\n",
            "PTR9876 1\n",
            "---\n",
            "SWL2345\n",
            "SWL2345 5\n",
            "---\n",
            "RSG8901\n",
            "RSG8901 1\n",
            "---\n"
          ]
        }
      ],
      "source": [
        "# Function to process orders\n",
        "def process_order_request(email_id, email_body):\n",
        "    # Extract product and quantity from email body\n",
        "    products_in_email = extract_products_and_quantities(email_body)\n",
        "    order_status_list = []\n",
        "    \n",
        "    # Process each product in the order request\n",
        "    for product_name, quantity in products_in_email.items():\n",
        "        relevant_products = vectorstore.similarity_search(product_name)\n",
        "        relevant_product = relevant_products[0].metadata['product_id']\n",
        "        print(relevant_product)\n",
        "        product_row = products_df[products_df['product_id'] == relevant_product]\n",
        "        \n",
        "        if not product_row.empty:\n",
        "            product_id = product_row.iloc[0]['product_id']\n",
        "            stock = product_row.iloc[0]['stock']\n",
        "            #print(product_id, stock)\n",
        "            #print(\"---\")\n",
        "            \n",
        "            if stock >= quantity:\n",
        "                # Order can be fulfilled\n",
        "                products_df.loc[products_df['product_id'] == relevant_product, 'stock'] -= quantity\n",
        "                order_status_list.append({\n",
        "                    'email ID': email_id,\n",
        "                    'product ID': product_id,\n",
        "                    'quantity': quantity,\n",
        "                    'status': 'created'\n",
        "                })\n",
        "            else:\n",
        "                # Out of stock\n",
        "                order_status_list.append({\n",
        "                    'email ID': email_id,\n",
        "                    'product ID': product_id,\n",
        "                    'quantity': quantity,\n",
        "                    'status': 'out of stock'\n",
        "                })\n",
        "        else:\n",
        "            # Handle case where product is not found in catalog\n",
        "            order_status_list.append({\n",
        "                'email ID': email_id,\n",
        "                'product ID': 'unknown',\n",
        "                'quantity': quantity,\n",
        "                'status': 'product not found'\n",
        "            })\n",
        "    \n",
        "    return order_status_list\n",
        "\n",
        "# Apply the process to order requests and generate the output for 'order-status'\n",
        "order_requests = emails_df[emails_df['category'] == 'order request']\n",
        "order_status_results = []\n",
        "\n",
        "for _, row in order_requests.iterrows():\n",
        "    order_status_results.extend(process_order_request(row['email_id'], row['message']))\n",
        "\n",
        "# Convert the result to a DataFrame and save\n",
        "order_status_df = pd.DataFrame(order_status_results)\n",
        "order_status_df.to_csv('order-status.csv', index=False)  # Saving temporarily as CSV before uploading"
      ]
    },
    {
      "cell_type": "markdown",
      "metadata": {
        "id": "29ExT_MQRhos"
      },
      "source": [
        "# Task 3. Handle product inquiry"
      ]
    },
    {
      "cell_type": "markdown",
      "metadata": {},
      "source": [
        "We use the vector database to retreive relevant data and serve it to the user based on the similarity to their email message."
      ]
    },
    {
      "cell_type": "code",
      "execution_count": 32,
      "metadata": {},
      "outputs": [],
      "source": [
        "# Function to handle product inquiries\n",
        "def handle_product_inquiry(email_id, email_subject, email_body):\n",
        "    relevant_products = vectorstore.similarity_search(str(email_subject) + \" \" + str(email_body))\n",
        "    \n",
        "    if relevant_products:\n",
        "        response = f\"Dear Customer, \\n\\nHere are the details for the products you inquired about:\\n\\nProduct Name: {relevant_products[0].metadata['name']}\\nDescription: {relevant_products[0].metadata['description']}\\nSeasons: {relevant_products[0].metadata['seasons']}\\nPricing: ${str(relevant_products[0].metadata['price'])}\\n\\n\"\n",
        "        return response\n",
        "    else:\n",
        "        return \"Dear Customer, \\n\\nWe could not find any relevant products based on your inquiry.\"\n",
        "\n",
        "# Apply the function to generate responses for product inquiries\n",
        "product_inquiries = emails_df[emails_df['category'] == 'product inquiry']\n",
        "inquiry_responses = []\n",
        "\n",
        "for _, row in product_inquiries.iterrows():\n",
        "    response = handle_product_inquiry(row['email_id'], row['subject'], row['message'])\n",
        "    inquiry_responses.append({'email ID': row['email_id'], 'response': response})\n",
        "\n",
        "# Save the responses to 'inquiry-response' sheet\n",
        "inquiry_response_df = pd.DataFrame(inquiry_responses)\n",
        "inquiry_response_df.to_csv('inquiry-response.csv', index=False)  # Saving temporarily as CSV before uploading"
      ]
    },
    {
      "cell_type": "code",
      "execution_count": null,
      "metadata": {},
      "outputs": [],
      "source": []
    },
    {
      "cell_type": "code",
      "execution_count": null,
      "metadata": {},
      "outputs": [],
      "source": []
    }
  ],
  "metadata": {
    "colab": {
      "provenance": []
    },
    "kernelspec": {
      "display_name": "Python 3",
      "name": "python3"
    },
    "language_info": {
      "codemirror_mode": {
        "name": "ipython",
        "version": 3
      },
      "file_extension": ".py",
      "mimetype": "text/x-python",
      "name": "python",
      "nbconvert_exporter": "python",
      "pygments_lexer": "ipython3",
      "version": "3.11.7"
    }
  },
  "nbformat": 4,
  "nbformat_minor": 0
}
