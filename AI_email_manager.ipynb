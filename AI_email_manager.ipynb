{
  "cells": [
    {
      "cell_type": "markdown",
      "metadata": {
        "id": "e0n49UaWPGAd"
      },
      "source": [
        "# Solving Business Problems with AI\n",
        "\n",
        "## Objective\n",
        "Develop a proof-of-concept application to intelligently process email order requests and customer inquiries for a fashion store. The system should accurately categorize emails as either product inquiries or order requests and generate appropriate responses using the product catalog information and current stock status.\n",
        "\n",
        "## Task Description\n",
        "\n",
        "### Inputs\n",
        "\n",
        "Google Spreadsheet **[Document](https://docs.google.com/spreadsheets/d/14fKHsblfqZfWj3iAaM2oA51TlYfQlFT4WKo52fVaQ9U)** containing:\n",
        "\n",
        "- **Products**: List of products with fields including product ID, name, category, stock amount, detailed description, and season.\n",
        "\n",
        "- **Emails**: Sequential list of emails with fields such as email ID, subject, and body.\n",
        "\n",
        "### Instructions\n",
        "\n",
        "- Implement all requirements using advanced Large Language Models (LLMs) to handle complex tasks, process extensive data, and generate accurate outputs effectively.\n",
        "- Use Retrieval-Augmented Generation (RAG) and vector store techniques where applicable to retrieve relevant information and generate responses.\n",
        "- You are provided with a temporary OpenAI API key granting access to GPT-4o, which has a token quota. Use it wisely or use your own key if preferred.\n",
        "- Address the requirements in the order listed. Review them in advance to develop a general implementation plan before starting.\n",
        "- Your deliverables should include:\n",
        "   - Code developed within this notebook.\n",
        "   - A single spreadsheet containing results, organized across separate sheets.\n",
        "   - Comments detailing your thought process.\n",
        "- You may use additional libraries (e.g., langchain) to streamline the solution. Use libraries appropriately to align with best practices for AI and LLM tools.\n",
        "- Use the most suitable AI techniques for each task. Note that solving tasks with traditional programming methods will not earn points, as this assessment evaluates your knowledge of LLM tools and best practices.\n",
        "\n",
        "### Requirements\n",
        "\n",
        "#### 1. Classify emails\n",
        "    \n",
        "Classify each email as either a _**\"product inquiry\"**_ or an _**\"order request\"**_. Ensure that the classification accurately reflects the intent of the email.\n",
        "\n",
        "**Output**: Populate the **email-classification** sheet with columns: email ID, category.\n",
        "\n",
        "#### 2. Process order requests\n",
        "1.   Process orders\n",
        "  - For each order request, verify product availability in stock.\n",
        "  - If the order can be fulfilled, create a new order line with the status “created”.\n",
        "  - If the order cannot be fulfilled due to insufficient stock, create a line with the status “out of stock” and include the requested quantity.\n",
        "  - Update stock levels after processing each order.\n",
        "  - Record each product request from the email.\n",
        "  - **Output**: Populate the **order-status** sheet with columns: email ID, product ID, quantity, status (**_\"created\"_**, **_\"out of stock\"_**).\n",
        "\n",
        "2.   Generate responses\n",
        "  - Create response emails based on the order processing results:\n",
        "      - If the order is fully processed, inform the customer and provide product details.\n",
        "      - If the order cannot be fulfilled or is only partially fulfilled, explain the situation, specify the out-of-stock items, and suggest alternatives or options (e.g., waiting for restock).\n",
        "  - Ensure the email tone is professional and production-ready.\n",
        "  - **Output**: Populate the **order-response** sheet with columns: email ID, response.\n",
        "\n",
        "#### 3. Handle product inquiry\n",
        "\n",
        "Customers may ask general open questions.\n",
        "  - Respond to product inquiries using relevant information from the product catalog.\n",
        "  - Ensure your solution scales to handle a full catalog of over 100,000 products without exceeding token limits. Avoid including the entire catalog in the prompt.\n",
        "  - **Output**: Populate the **inquiry-response** sheet with columns: email ID, response.\n",
        "\n",
        "## Evaluation Criteria\n",
        "- **Advanced AI Techniques**: The system should use Retrieval-Augmented Generation (RAG) and vector store techniques to retrieve relevant information from data sources and use it to respond to customer inquiries.\n",
        "- **Tone Adaptation**: The AI should adapt its tone appropriately based on the context of the customer's inquiry. Responses should be informative and enhance the customer experience.\n",
        "- **Code Completeness**: All functionalities outlined in the requirements must be fully implemented and operational as described.\n",
        "- **Code Quality and Clarity**: The code should be well-organized, with clear logic and a structured approach. It should be easy to understand and maintain.\n",
        "- **Presence of Expected Outputs**: All specified outputs must be correctly generated and saved in the appropriate sheets of the output spreadsheet. Ensure the format of each output matches the requirements—do not add extra columns or sheets.\n",
        "- **Accuracy of Outputs**: The accuracy of the generated outputs is crucial and will significantly impact the evaluation of your submission.\n",
        "\n",
        "We look forward to seeing your solution and your approach to solving real-world problems with AI technologies."
      ]
    },
    {
      "cell_type": "markdown",
      "metadata": {
        "id": "GOUEcKe-xSPr"
      },
      "source": [
        "# Prerequisites"
      ]
    },
    {
      "cell_type": "markdown",
      "metadata": {
        "id": "otSVe-sQ-CsW"
      },
      "source": [
        "### Libraries and API Configuration"
      ]
    },
    {
      "cell_type": "code",
      "execution_count": null,
      "metadata": {
        "id": "UvOkHAkDghww"
      },
      "outputs": [],
      "source": [
        "# Install the OpenAI Python package.\n",
        "%pip install openai"
      ]
    },
    {
      "cell_type": "code",
      "execution_count": null,
      "metadata": {},
      "outputs": [],
      "source": [
        "%pip install langchain langchain_community langchain_chroma transformers sentence-transformers"
      ]
    },
    {
      "cell_type": "code",
      "execution_count": 5,
      "metadata": {},
      "outputs": [],
      "source": [
        "import os\n",
        "\n",
        "#TODO: Insert your OpenAI API key here\n",
        "os.environ[\"OPENAI_API_KEY\"] = 'Insert your API key here'"
      ]
    },
    {
      "cell_type": "code",
      "execution_count": 6,
      "metadata": {
        "id": "caEG5zIMw8DV"
      },
      "outputs": [
        {
          "name": "stdout",
          "output_type": "stream",
          "text": [
            "ChatCompletionMessage(content='Hello! How can I assist you today?', refusal=None, role='assistant', function_call=None, tool_calls=None)\n"
          ]
        }
      ],
      "source": [
        "# Code example of OpenAI communication\n",
        "\n",
        "from openai import OpenAI\n",
        "\n",
        "client = OpenAI(\n",
        "    api_key=os.environ[\"OPENAI_API_KEY\"]\n",
        ")\n",
        "\n",
        "completion = client.chat.completions.create(\n",
        "  model=\"gpt-4o\",\n",
        "  messages=[\n",
        "    {\"role\": \"user\", \"content\": \"Hello!\"}\n",
        "  ]\n",
        ")\n",
        "\n",
        "print(completion.choices[0].message)"
      ]
    },
    {
      "cell_type": "code",
      "execution_count": 1,
      "metadata": {
        "id": "shE97VzGwZ4v"
      },
      "outputs": [
        {
          "data": {
            "text/html": [
              "<div>\n",
              "<style scoped>\n",
              "    .dataframe tbody tr th:only-of-type {\n",
              "        vertical-align: middle;\n",
              "    }\n",
              "\n",
              "    .dataframe tbody tr th {\n",
              "        vertical-align: top;\n",
              "    }\n",
              "\n",
              "    .dataframe thead th {\n",
              "        text-align: right;\n",
              "    }\n",
              "</style>\n",
              "<table border=\"1\" class=\"dataframe\">\n",
              "  <thead>\n",
              "    <tr style=\"text-align: right;\">\n",
              "      <th></th>\n",
              "      <th>product_id</th>\n",
              "      <th>name</th>\n",
              "      <th>category</th>\n",
              "      <th>description</th>\n",
              "      <th>stock</th>\n",
              "      <th>seasons</th>\n",
              "      <th>price</th>\n",
              "    </tr>\n",
              "  </thead>\n",
              "  <tbody>\n",
              "    <tr>\n",
              "      <th>0</th>\n",
              "      <td>RSG8901</td>\n",
              "      <td>Retro Sunglasses</td>\n",
              "      <td>Accessories</td>\n",
              "      <td>Transport yourself back in time with our retro...</td>\n",
              "      <td>1</td>\n",
              "      <td>Spring, Summer</td>\n",
              "      <td>26.99</td>\n",
              "    </tr>\n",
              "    <tr>\n",
              "      <th>1</th>\n",
              "      <td>SWL2345</td>\n",
              "      <td>Sleek Wallet</td>\n",
              "      <td>Accessories</td>\n",
              "      <td>Keep your essentials organized and secure with...</td>\n",
              "      <td>5</td>\n",
              "      <td>All seasons</td>\n",
              "      <td>30.00</td>\n",
              "    </tr>\n",
              "    <tr>\n",
              "      <th>2</th>\n",
              "      <td>VSC6789</td>\n",
              "      <td>Versatile Scarf</td>\n",
              "      <td>Accessories</td>\n",
              "      <td>Add a touch of versatility to your wardrobe wi...</td>\n",
              "      <td>6</td>\n",
              "      <td>Spring, Fall</td>\n",
              "      <td>23.00</td>\n",
              "    </tr>\n",
              "  </tbody>\n",
              "</table>\n",
              "</div>"
            ],
            "text/plain": [
              "  product_id              name     category  \\\n",
              "0    RSG8901  Retro Sunglasses  Accessories   \n",
              "1    SWL2345      Sleek Wallet  Accessories   \n",
              "2    VSC6789   Versatile Scarf  Accessories   \n",
              "\n",
              "                                         description  stock         seasons  \\\n",
              "0  Transport yourself back in time with our retro...      1  Spring, Summer   \n",
              "1  Keep your essentials organized and secure with...      5     All seasons   \n",
              "2  Add a touch of versatility to your wardrobe wi...      6    Spring, Fall   \n",
              "\n",
              "   price  \n",
              "0  26.99  \n",
              "1  30.00  \n",
              "2  23.00  "
            ]
          },
          "metadata": {},
          "output_type": "display_data"
        },
        {
          "data": {
            "text/html": [
              "<div>\n",
              "<style scoped>\n",
              "    .dataframe tbody tr th:only-of-type {\n",
              "        vertical-align: middle;\n",
              "    }\n",
              "\n",
              "    .dataframe tbody tr th {\n",
              "        vertical-align: top;\n",
              "    }\n",
              "\n",
              "    .dataframe thead th {\n",
              "        text-align: right;\n",
              "    }\n",
              "</style>\n",
              "<table border=\"1\" class=\"dataframe\">\n",
              "  <thead>\n",
              "    <tr style=\"text-align: right;\">\n",
              "      <th></th>\n",
              "      <th>email_id</th>\n",
              "      <th>subject</th>\n",
              "      <th>message</th>\n",
              "    </tr>\n",
              "  </thead>\n",
              "  <tbody>\n",
              "    <tr>\n",
              "      <th>0</th>\n",
              "      <td>E001</td>\n",
              "      <td>Leather Wallets</td>\n",
              "      <td>Hi there, I want to order all the remaining LT...</td>\n",
              "    </tr>\n",
              "    <tr>\n",
              "      <th>1</th>\n",
              "      <td>E002</td>\n",
              "      <td>Buy Vibrant Tote with noise</td>\n",
              "      <td>Good morning, I'm looking to buy the VBT2345 V...</td>\n",
              "    </tr>\n",
              "    <tr>\n",
              "      <th>2</th>\n",
              "      <td>E003</td>\n",
              "      <td>Need your help</td>\n",
              "      <td>Hello, I need a new bag to carry my laptop and...</td>\n",
              "    </tr>\n",
              "  </tbody>\n",
              "</table>\n",
              "</div>"
            ],
            "text/plain": [
              "  email_id                      subject  \\\n",
              "0     E001              Leather Wallets   \n",
              "1     E002  Buy Vibrant Tote with noise   \n",
              "2     E003               Need your help   \n",
              "\n",
              "                                             message  \n",
              "0  Hi there, I want to order all the remaining LT...  \n",
              "1  Good morning, I'm looking to buy the VBT2345 V...  \n",
              "2  Hello, I need a new bag to carry my laptop and...  "
            ]
          },
          "metadata": {},
          "output_type": "display_data"
        }
      ],
      "source": [
        "# Code example of reading input data\n",
        "\n",
        "import pandas as pd\n",
        "from IPython.display import display\n",
        "\n",
        "def read_data_frame(document_id, sheet_name):\n",
        "    export_link = f\"https://docs.google.com/spreadsheets/d/{document_id}/gviz/tq?tqx=out:csv&sheet={sheet_name}\"\n",
        "    return  pd.read_csv(export_link)\n",
        "\n",
        "#TODO: Insert your document ID here\n",
        "document_id = 'Insert your document ID here'\n",
        "products_df = read_data_frame(document_id, 'products')\n",
        "emails_df = read_data_frame(document_id, 'emails')\n",
        "\n",
        "# Display first 3 rows of each DataFrame\n",
        "display(products_df.head(3))\n",
        "display(emails_df.head(3))"
      ]
    },
    {
      "cell_type": "markdown",
      "metadata": {
        "id": "zyvqJ-BUNKQR"
      },
      "source": [
        "# Task 1. Classify emails"
      ]
    },
    {
      "cell_type": "markdown",
      "metadata": {},
      "source": [
        "We use prompt engineering to classify the messages.We create a new column in the dataframe with the results and save them as a CSV."
      ]
    },
    {
      "cell_type": "code",
      "execution_count": 7,
      "metadata": {},
      "outputs": [],
      "source": [
        "# Function to classify email using GPT-4\n",
        "def classify_email(email_subject, email_body):\n",
        "    # Prepare the prompt for GPT-4\n",
        "    prompt = f\"\"\"\n",
        "        You are an assistant helping a fashion store by classifying emails into two categories: \"product inquiry\" and \"order request.\" Below is the subject and body of an email. Your job is to classify it into one of these categories:\n",
        "\n",
        "        Email:\n",
        "        ###\n",
        "        Subject: {email_subject}\n",
        "        Body: {email_body}\n",
        "        ###\n",
        "\n",
        "        Based on the content above, classify this email as either \"product inquiry\" or \"order request\". Do not write any additional text.\n",
        "\n",
        "        Example:\n",
        "        ###\n",
        "        Subject: Need your help\n",
        "        Body: I am interested in learning more about your products. Can you provide more information?\n",
        "        ###\n",
        "\n",
        "        Response: product inquiry\n",
        "\n",
        "        \"\"\"\n",
        "\n",
        "    response = client.chat.completions.create(\n",
        "        model=\"gpt-4o\",\n",
        "        messages=[\n",
        "            {\"role\": \"user\", \"content\": prompt}\n",
        "        ],\n",
        "        max_tokens=50\n",
        "        )\n",
        "    \n",
        "    # Extract category from the response\n",
        "    result = response.choices[0].message.content.strip().lower()\n",
        "    \n",
        "    # Return classification result\n",
        "    if \"inquiry\" in result:\n",
        "        return \"product inquiry\"\n",
        "    elif \"order\" in result:\n",
        "        return \"order request\"\n",
        "    else:\n",
        "        return \"unknown\"\n"
      ]
    },
    {
      "cell_type": "code",
      "execution_count": null,
      "metadata": {},
      "outputs": [],
      "source": [
        "# Classify all emails and store results\n",
        "emails_df['category'] = emails_df.apply(lambda row: classify_email(row['subject'], row['message']), axis=1)\n",
        "\n",
        "# Output the results to the 'email-classification' sheet\n",
        "classification_df = emails_df[['email_id', 'category']]\n",
        "classification_df.to_csv('email-classification.csv', index=False)  # Saving temporarily as CSV before uploading"
      ]
    },
    {
      "cell_type": "code",
      "execution_count": 8,
      "metadata": {},
      "outputs": [
        {
          "data": {
            "text/plain": [
              "category\n",
              "product inquiry    11\n",
              "order request      10\n",
              "Name: count, dtype: int64"
            ]
          },
          "execution_count": 8,
          "metadata": {},
          "output_type": "execute_result"
        }
      ],
      "source": [
        "emails_df['category'].value_counts()"
      ]
    },
    {
      "cell_type": "markdown",
      "metadata": {
        "id": "lm3ZeatjYjM3"
      },
      "source": [
        "# Task 2. Process order requests"
      ]
    },
    {
      "cell_type": "markdown",
      "metadata": {},
      "source": [
        "First we create a new column with the product summary. This is what we will use to create our vector database to later query. Then, we use the LLM and prompt engineering to check for products and quantities on each email. Finally, we check the product and stock using RAG and process the order requests."
      ]
    },
    {
      "cell_type": "code",
      "execution_count": null,
      "metadata": {},
      "outputs": [],
      "source": [
        "# Create a new column that summarizes the product information\n",
        "products_df['summary'] = products_df.apply(lambda row: f\"product_id: {row['name']} - name:{row['name']} - category: {row['category']} - description: {row['description']} - stock: {row['stock']} - seasons: {row['seasons']} - price: {row['price']}\", axis=1)\n",
        "products_df.head()"
      ]
    },
    {
      "cell_type": "code",
      "execution_count": null,
      "metadata": {},
      "outputs": [],
      "source": [
        "# Import Langchain and the necessary modules\n",
        "from langchain_community.document_loaders import DataFrameLoader\n",
        "from langchain_chroma import Chroma\n",
        "from langchain_community.embeddings import HuggingFaceBgeEmbeddings\n",
        "\n",
        "# Load the product catalog from the DataFrame and store in a Chroma vector store\n",
        "loader = DataFrameLoader(products_df, page_content_column=\"summary\")\n",
        "documents = loader.load()\n",
        "\n",
        "huggingface_embeddings = HuggingFaceBgeEmbeddings(\n",
        "    model_name=\"sentence-transformers/all-MiniLM-l6-v2\",\n",
        "    model_kwargs={'device':'cpu'}, \n",
        "    encode_kwargs={'normalize_embeddings': True}\n",
        ")\n",
        "\n",
        "# Create embeddings for products and initialize Chroma vector store\n",
        "vectorstore = Chroma.from_documents(documents, embedding=huggingface_embeddings)"
      ]
    },
    {
      "cell_type": "code",
      "execution_count": 42,
      "metadata": {},
      "outputs": [
        {
          "name": "stdout",
          "output_type": "stream",
          "text": [
            "{'- CLF2109 Cable Knit Beanies': 5, '- FZZ1098 Fuzzy Slippers': 2}\n"
          ]
        }
      ],
      "source": [
        "# Function to extract products and quantities from email body\n",
        "def extract_products_and_quantities(email_body):\n",
        "    #This needs to be improved to account for categories of products and seasons\n",
        "    prompt = f\"\"\"\n",
        "    You are a data extraction assistant. I will provide you with an email body that contains an order request. Your task is to extract the list of products and their respective quantities mentioned in the email.\n",
        "\n",
        "    Here is the email body:\n",
        "    ###\n",
        "    \"{email_body}\"\n",
        "    ###\n",
        "\n",
        "    Please provide the extracted list of products and their quantities in the following format. Only include products that have a valid quantity specified. Only use numbers as a quantity.\n",
        "    - Product Name: Quantity\n",
        "\n",
        "    Example:\n",
        "    - Blue Dresses: 2\n",
        "    - Red Heels: 1\n",
        "    \"\"\"\n",
        "    \n",
        "    response = client.chat.completions.create(\n",
        "        model=\"gpt-4o\",\n",
        "        messages=[\n",
        "            {\"role\": \"user\", \"content\": prompt}\n",
        "        ],\n",
        "        max_tokens=50\n",
        "        )\n",
        "    \n",
        "    extracted_text = response.choices[0].message.content.strip()\n",
        "    # Convert extracted text to a dictionary\n",
        "    product_list = {}\n",
        "    for line in extracted_text.split('\\n'):\n",
        "        #print(line)\n",
        "        if ': ' in line:\n",
        "            product, quantity = line.split(': ')\n",
        "            if quantity.isdigit():\n",
        "                product_list[product.strip()] = int(quantity.strip())\n",
        "            else:\n",
        "                print(f\"Quantity for product '{product}' is not a valid number. Data: {line}\")\n",
        "    \n",
        "    return product_list"
      ]
    },
    {
      "cell_type": "code",
      "execution_count": 45,
      "metadata": {},
      "outputs": [
        {
          "name": "stdout",
          "output_type": "stream",
          "text": [
            "Quantity for product '- SFT1098 Infinity Scarves' is not a valid number. Data: - SFT1098 Infinity Scarves: 3 to 4\n",
            "CLF2109\n",
            "CLF2109 2\n",
            "---\n",
            "FZZ1098\n",
            "FZZ1098 2\n",
            "---\n",
            "VSC6789\n",
            "VSC6789 6\n",
            "---\n",
            "PTR9876\n",
            "PTR9876 1\n",
            "---\n",
            "SWL2345\n",
            "SWL2345 5\n",
            "---\n",
            "RSG8901\n",
            "RSG8901 1\n",
            "---\n"
          ]
        }
      ],
      "source": [
        "# Function to process orders\n",
        "def process_order_request(email_id, email_body):\n",
        "    # Extract product and quantity from email body\n",
        "    products_in_email = extract_products_and_quantities(email_body)\n",
        "    order_status_list = []\n",
        "    \n",
        "    # Process each product in the order request\n",
        "    for product_name, quantity in products_in_email.items():\n",
        "        relevant_products = vectorstore.similarity_search(product_name)\n",
        "        relevant_product = relevant_products[0].metadata['product_id']\n",
        "        print(relevant_product)\n",
        "        product_row = products_df[products_df['product_id'] == relevant_product]\n",
        "        \n",
        "        if not product_row.empty:\n",
        "            product_id = product_row.iloc[0]['product_id']\n",
        "            stock = product_row.iloc[0]['stock']\n",
        "            #print(product_id, stock)\n",
        "            #print(\"---\")\n",
        "            \n",
        "            if stock >= quantity:\n",
        "                # Order can be fulfilled\n",
        "                products_df.loc[products_df['product_id'] == relevant_product, 'stock'] -= quantity\n",
        "                order_status_list.append({\n",
        "                    'email ID': email_id,\n",
        "                    'product ID': product_id,\n",
        "                    'quantity': quantity,\n",
        "                    'status': 'created'\n",
        "                })\n",
        "            else:\n",
        "                # Out of stock\n",
        "                order_status_list.append({\n",
        "                    'email ID': email_id,\n",
        "                    'product ID': product_id,\n",
        "                    'quantity': quantity,\n",
        "                    'status': 'out of stock'\n",
        "                })\n",
        "        else:\n",
        "            # Handle case where product is not found in catalog\n",
        "            order_status_list.append({\n",
        "                'email ID': email_id,\n",
        "                'product ID': 'unknown',\n",
        "                'quantity': quantity,\n",
        "                'status': 'product not found'\n",
        "            })\n",
        "    \n",
        "    return order_status_list\n",
        "\n",
        "# Apply the process to order requests and generate the output for 'order-status'\n",
        "order_requests = emails_df[emails_df['category'] == 'order request']\n",
        "order_status_results = []\n",
        "\n",
        "for _, row in order_requests.iterrows():\n",
        "    order_status_results.extend(process_order_request(row['email_id'], row['message']))\n",
        "\n",
        "# Convert the result to a DataFrame and save\n",
        "order_status_df = pd.DataFrame(order_status_results)\n",
        "order_status_df.to_csv('order-status.csv', index=False)  # Saving temporarily as CSV before uploading"
      ]
    },
    {
      "cell_type": "markdown",
      "metadata": {
        "id": "29ExT_MQRhos"
      },
      "source": [
        "# Task 3. Handle product inquiry"
      ]
    },
    {
      "cell_type": "markdown",
      "metadata": {},
      "source": [
        "We use the vector database to retreive relevant data and serve it to the user based on the similarity to their email message."
      ]
    },
    {
      "cell_type": "code",
      "execution_count": 32,
      "metadata": {},
      "outputs": [],
      "source": [
        "# Function to handle product inquiries\n",
        "def handle_product_inquiry(email_id, email_subject, email_body):\n",
        "    relevant_products = vectorstore.similarity_search(str(email_subject) + \" \" + str(email_body))\n",
        "    \n",
        "    if relevant_products:\n",
        "        response = f\"Dear Customer, \\n\\nHere are the details for the products you inquired about:\\n\\nProduct Name: {relevant_products[0].metadata['name']}\\nDescription: {relevant_products[0].metadata['description']}\\nSeasons: {relevant_products[0].metadata['seasons']}\\nPricing: ${str(relevant_products[0].metadata['price'])}\\n\\n\"\n",
        "        return response\n",
        "    else:\n",
        "        return \"Dear Customer, \\n\\nWe could not find any relevant products based on your inquiry.\"\n",
        "\n",
        "# Apply the function to generate responses for product inquiries\n",
        "product_inquiries = emails_df[emails_df['category'] == 'product inquiry']\n",
        "inquiry_responses = []\n",
        "\n",
        "for _, row in product_inquiries.iterrows():\n",
        "    response = handle_product_inquiry(row['email_id'], row['subject'], row['message'])\n",
        "    inquiry_responses.append({'email ID': row['email_id'], 'response': response})\n",
        "\n",
        "# Save the responses to 'inquiry-response' sheet\n",
        "inquiry_response_df = pd.DataFrame(inquiry_responses)\n",
        "inquiry_response_df.to_csv('inquiry-response.csv', index=False)  # Saving temporarily as CSV before uploading"
      ]
    }
  ],
  "metadata": {
    "colab": {
      "provenance": []
    },
    "kernelspec": {
      "display_name": "Python 3",
      "name": "python3"
    },
    "language_info": {
      "codemirror_mode": {
        "name": "ipython",
        "version": 3
      },
      "file_extension": ".py",
      "mimetype": "text/x-python",
      "name": "python",
      "nbconvert_exporter": "python",
      "pygments_lexer": "ipython3",
      "version": "3.11.7"
    }
  },
  "nbformat": 4,
  "nbformat_minor": 0
}
